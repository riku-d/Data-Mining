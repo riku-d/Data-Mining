{
 "cells": [
  {
   "cell_type": "code",
   "execution_count": 1,
   "id": "b50ff06d-961b-43dd-9a3c-e77555e1e081",
   "metadata": {},
   "outputs": [
    {
     "name": "stdin",
     "output_type": "stream",
     "text": [
      "Enter first number:  5\n",
      "Enter second number:  6\n"
     ]
    },
    {
     "name": "stdout",
     "output_type": "stream",
     "text": [
      "GCD: 1\n",
      "LCM: 30\n"
     ]
    }
   ],
   "source": [
    "import math\n",
    "\n",
    "# Input\n",
    "a = int(input(\"Enter first number: \"))\n",
    "b = int(input(\"Enter second number: \"))\n",
    "\n",
    "# GCD using math module\n",
    "gcd = math.gcd(a, b)\n",
    "\n",
    "# LCM using formula: LCM(a,b) = abs(a*b) // GCD(a,b)\n",
    "lcm = abs(a * b) // gcd\n",
    "\n",
    "# Output\n",
    "print(\"GCD:\", gcd)\n",
    "print(\"LCM:\", lcm)\n"
   ]
  },
  {
   "cell_type": "code",
   "execution_count": 3,
   "id": "544a4572-0de0-4371-87fc-df8baad8a277",
   "metadata": {},
   "outputs": [],
   "source": [
    "import pandas as pd\n",
    "\n",
    "# Sample data as a dictionary\n",
    "data = {\n",
    "    'Name': ['Alice', 'Bob', 'Charlie', 'David', 'Eva', 'Rohit'],\n",
    "    'Math': [85, 78, 92, 70, 88,92],\n",
    "    'Science': [90, 83, 88, 76, 85, 95],\n",
    "    'English': [88, 89, 91, 80, 86, 90]\n",
    "}\n",
    "df = pd.DataFrame(data)\n",
    "df.to_csv('data.csv', index=False)"
   ]
  },
  {
   "cell_type": "code",
   "execution_count": 4,
   "id": "97ea36ed-6af5-46fd-8293-cd211d3aae0c",
   "metadata": {},
   "outputs": [
    {
     "name": "stdout",
     "output_type": "stream",
     "text": [
      "Data Preview:\n",
      "      Name  Math  Science  English\n",
      "0    Alice    85       90       88\n",
      "1      Bob    78       83       89\n",
      "2  Charlie    92       88       91\n",
      "3    David    70       76       80\n",
      "4      Eva    88       85       86\n",
      "\n",
      "Basic Statistics:\n",
      "            Math    Science    English\n",
      "count   6.000000   6.000000   6.000000\n",
      "mean   84.166667  86.166667  87.333333\n",
      "std     8.681398   6.493587   3.983298\n",
      "min    70.000000  76.000000  80.000000\n",
      "25%    79.750000  83.500000  86.500000\n",
      "50%    86.500000  86.500000  88.500000\n",
      "75%    91.000000  89.500000  89.750000\n",
      "max    92.000000  95.000000  91.000000\n"
     ]
    }
   ],
   "source": [
    "import pandas as pd\n",
    "\n",
    "# Load the CSV file\n",
    "df = pd.read_csv('data.csv')\n",
    "\n",
    "# Show the first few rows\n",
    "print(\"Data Preview:\")\n",
    "print(df.head())\n",
    "\n",
    "# Show basic statistics for numeric columns\n",
    "print(\"\\nBasic Statistics:\")\n",
    "print(df.describe())\n"
   ]
  },
  {
   "cell_type": "code",
   "execution_count": 5,
   "id": "2cc4b6b4-cab4-4bb2-8636-68ca50d1a4ba",
   "metadata": {},
   "outputs": [
    {
     "name": "stdout",
     "output_type": "stream",
     "text": [
      "Array: [10 20 30 40 50]\n",
      "Mean: 30.0\n",
      "Median: 30.0\n",
      "Standard Deviation: 14.142135623730951\n"
     ]
    }
   ],
   "source": [
    "import numpy as np\n",
    "\n",
    "# Create a numeric array\n",
    "arr = np.array([10, 20, 30, 40, 50])\n",
    "\n",
    "# Compute statistics\n",
    "mean = np.mean(arr)\n",
    "median = np.median(arr)\n",
    "std_dev = np.std(arr)\n",
    "\n",
    "# Display results\n",
    "print(\"Array:\", arr)\n",
    "print(\"Mean:\", mean)\n",
    "print(\"Median:\", median)\n",
    "print(\"Standard Deviation:\", std_dev)\n"
   ]
  },
  {
   "cell_type": "code",
   "execution_count": 6,
   "id": "9b2c4fea-808e-4732-8a7b-086f0b48aa60",
   "metadata": {},
   "outputs": [
    {
     "name": "stdin",
     "output_type": "stream",
     "text": [
      "Enter the number of Fibonacci terms:  10\n"
     ]
    },
    {
     "name": "stdout",
     "output_type": "stream",
     "text": [
      "Fibonacci Series:\n",
      "0 1 1 2 3 5 8 13 21 34 "
     ]
    }
   ],
   "source": [
    "# Recursive function to return nth Fibonacci number\n",
    "def fibonacci(n):\n",
    "    if n <= 0:\n",
    "        return 0\n",
    "    elif n == 1:\n",
    "        return 1\n",
    "    else:\n",
    "        return fibonacci(n-1) + fibonacci(n-2)\n",
    "\n",
    "# Input number of terms\n",
    "terms = int(input(\"Enter the number of Fibonacci terms: \"))\n",
    "\n",
    "print(\"Fibonacci Series:\")\n",
    "for i in range(terms):\n",
    "    print(fibonacci(i), end=' ')\n"
   ]
  },
  {
   "cell_type": "code",
   "execution_count": 7,
   "id": "21d5aaa2-cf98-44e7-8b46-3a200d09703a",
   "metadata": {},
   "outputs": [
    {
     "name": "stdin",
     "output_type": "stream",
     "text": [
      "Enter the start of interval:  1\n",
      "Enter the end of interval:  50\n"
     ]
    },
    {
     "name": "stdout",
     "output_type": "stream",
     "text": [
      "Prime numbers between 1 and 50 are:\n",
      "2 3 5 7 11 13 17 19 23 29 31 37 41 43 47 "
     ]
    }
   ],
   "source": [
    "# Input range\n",
    "start = int(input(\"Enter the start of interval: \"))\n",
    "end = int(input(\"Enter the end of interval: \"))\n",
    "\n",
    "print(f\"Prime numbers between {start} and {end} are:\")\n",
    "\n",
    "for num in range(start, end + 1):\n",
    "    if num > 1:\n",
    "        for i in range(2, int(num**0.5)+1):\n",
    "            if num % i == 0:\n",
    "                break\n",
    "        else:\n",
    "            print(num, end=' ')\n"
   ]
  },
  {
   "cell_type": "code",
   "execution_count": 8,
   "id": "ce0fef41-996b-4882-bdab-75c1461314e5",
   "metadata": {},
   "outputs": [
    {
     "name": "stdin",
     "output_type": "stream",
     "text": [
      "Enter a year:  2036\n"
     ]
    },
    {
     "name": "stdout",
     "output_type": "stream",
     "text": [
      "2036 is a Leap Year.\n"
     ]
    }
   ],
   "source": [
    "# Input year\n",
    "year = int(input(\"Enter a year: \"))\n",
    "\n",
    "# Leap year check\n",
    "if (year % 4 == 0):\n",
    "    if (year % 100 == 0):\n",
    "        if (year % 400 == 0):\n",
    "            print(f\"{year} is a Leap Year.\")\n",
    "        else:\n",
    "            print(f\"{year} is NOT a Leap Year.\")\n",
    "    else:\n",
    "        print(f\"{year} is a Leap Year.\")\n",
    "else:\n",
    "    print(f\"{year} is NOT a Leap Year.\")\n"
   ]
  },
  {
   "cell_type": "code",
   "execution_count": 10,
   "id": "a1a2aa16-e8a6-4a12-89b1-40cca7bcdd00",
   "metadata": {},
   "outputs": [
    {
     "name": "stdin",
     "output_type": "stream",
     "text": [
      "Enter time in seconds:  3689\n"
     ]
    },
    {
     "name": "stdout",
     "output_type": "stream",
     "text": [
      "3689 seconds = 1 hours, 1 minutes, 29 seconds\n"
     ]
    }
   ],
   "source": [
    "# Input: Total number of seconds\n",
    "seconds = int(input(\"Enter time in seconds: \"))\n",
    "\n",
    "# Conversion\n",
    "hours = seconds // 3600\n",
    "minutes = (seconds % 3600) // 60\n",
    "remaining_seconds = seconds % 60\n",
    "\n",
    "# Output\n",
    "print(f\"{seconds} seconds = {hours} hours, {minutes} minutes, {remaining_seconds} seconds\")\n"
   ]
  },
  {
   "cell_type": "code",
   "execution_count": null,
   "id": "3d4371cc-859b-45ea-99dd-c6175d9c3104",
   "metadata": {},
   "outputs": [],
   "source": []
  }
 ],
 "metadata": {
  "kernelspec": {
   "display_name": "Python 3 (ipykernel)",
   "language": "python",
   "name": "python3"
  },
  "language_info": {
   "codemirror_mode": {
    "name": "ipython",
    "version": 3
   },
   "file_extension": ".py",
   "mimetype": "text/x-python",
   "name": "python",
   "nbconvert_exporter": "python",
   "pygments_lexer": "ipython3",
   "version": "3.12.4"
  }
 },
 "nbformat": 4,
 "nbformat_minor": 5
}
