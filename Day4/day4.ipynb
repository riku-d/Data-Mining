{
  "cells": [
    {
      "cell_type": "markdown",
      "id": "99f68fbc-0e4a-4716-bef8-b5fcbef85aca",
      "metadata": {
        "id": "99f68fbc-0e4a-4716-bef8-b5fcbef85aca"
      },
      "source": [
        "# Module 1 — Basics of PyTorch & TensorFlow\n",
        "### Assignment 1: Tensor Creation and Basic Operations\n",
        "1. Create the following tensors:\n",
        "a. A 1D tensor [1, 2, 3, 4]\n",
        "b. A 2D tensor of shape (3, 3) with random values\n",
        "c. A tensor of zeros of shape (2, 5)\n",
        "2. Perform addition, subtraction, and multiplication of two\n",
        "tensors.\n",
        "3. Convert a NumPy array to a PyTorch tensor and a\n",
        "TensorFlow tensor."
      ]
    },
    {
      "cell_type": "markdown",
      "id": "984f0258-7cbc-4ae3-adf7-749a0f3b44b3",
      "metadata": {
        "id": "984f0258-7cbc-4ae3-adf7-749a0f3b44b3"
      },
      "source": [
        "# PyTorch"
      ]
    },
    {
      "cell_type": "code",
      "execution_count": 1,
      "id": "446a26f9-d587-44cc-81f3-d0acd176dc73",
      "metadata": {
        "id": "446a26f9-d587-44cc-81f3-d0acd176dc73"
      },
      "outputs": [],
      "source": [
        "import torch\n",
        "import numpy as np"
      ]
    },
    {
      "cell_type": "code",
      "execution_count": 2,
      "id": "bddb8af3-de23-488f-8557-e89439be540b",
      "metadata": {
        "colab": {
          "base_uri": "https://localhost:8080/"
        },
        "id": "bddb8af3-de23-488f-8557-e89439be540b",
        "outputId": "382da645-ce64-4a91-989b-5ec3cf16231a"
      },
      "outputs": [
        {
          "output_type": "stream",
          "name": "stdout",
          "text": [
            "1D Tensor:\n",
            " tensor([1, 2, 3, 4])\n",
            "\n",
            "2D Random Tensor:\n",
            " tensor([[0.8325, 0.5483, 0.3957],\n",
            "        [0.3123, 0.1513, 0.6587],\n",
            "        [0.0656, 0.5841, 0.5093]])\n",
            "\n",
            "Zeros Tensor:\n",
            " tensor([[0., 0., 0., 0., 0.],\n",
            "        [0., 0., 0., 0., 0.]])\n"
          ]
        }
      ],
      "source": [
        "tensor_1d = torch.tensor([1, 2, 3, 4])\n",
        "print(\"1D Tensor:\\n\", tensor_1d)\n",
        "\n",
        "tensor_2d_random = torch.rand(3, 3)\n",
        "print(\"\\n2D Random Tensor:\\n\", tensor_2d_random)\n",
        "\n",
        "tensor_zeros = torch.zeros(2, 5)\n",
        "print(\"\\nZeros Tensor:\\n\", tensor_zeros)"
      ]
    },
    {
      "cell_type": "code",
      "execution_count": 3,
      "id": "1d3f6920-4aec-4ec0-b9fb-ea8b65580fbf",
      "metadata": {
        "colab": {
          "base_uri": "https://localhost:8080/"
        },
        "id": "1d3f6920-4aec-4ec0-b9fb-ea8b65580fbf",
        "outputId": "8d65ae43-cbf4-415c-dd5f-7146452e895a"
      },
      "outputs": [
        {
          "output_type": "stream",
          "name": "stdout",
          "text": [
            "\n",
            "Addition: tensor([5, 7, 9])\n",
            "Subtraction: tensor([-3, -3, -3])\n",
            "Multiplication: tensor([ 4, 10, 18])\n"
          ]
        }
      ],
      "source": [
        "a = torch.tensor([1, 2, 3])\n",
        "b = torch.tensor([4, 5, 6])\n",
        "print(\"\\nAddition:\", a + b)\n",
        "print(\"Subtraction:\", a - b)\n",
        "print(\"Multiplication:\", a * b)"
      ]
    },
    {
      "cell_type": "code",
      "execution_count": 4,
      "id": "2e2018fe-e514-4bf0-91bb-190b545772bb",
      "metadata": {
        "colab": {
          "base_uri": "https://localhost:8080/"
        },
        "id": "2e2018fe-e514-4bf0-91bb-190b545772bb",
        "outputId": "8ed69ef3-7a4e-43e8-dc0a-83b7551ddb1d"
      },
      "outputs": [
        {
          "output_type": "stream",
          "name": "stdout",
          "text": [
            "\n",
            "NumPy to PyTorch:\n",
            " tensor([[1, 2],\n",
            "        [3, 4]])\n"
          ]
        }
      ],
      "source": [
        "np_array = np.array([[1, 2], [3, 4]])\n",
        "torch_tensor = torch.from_numpy(np_array)\n",
        "print(\"\\nNumPy to PyTorch:\\n\", torch_tensor)"
      ]
    },
    {
      "cell_type": "markdown",
      "id": "66f69213-0d4c-4999-9198-a1e62ed29283",
      "metadata": {
        "id": "66f69213-0d4c-4999-9198-a1e62ed29283"
      },
      "source": [
        "# TensorFlow"
      ]
    },
    {
      "cell_type": "code",
      "execution_count": 5,
      "id": "87a201db-f64d-4452-b1b0-2451baca3370",
      "metadata": {
        "id": "87a201db-f64d-4452-b1b0-2451baca3370"
      },
      "outputs": [],
      "source": [
        "import tensorflow as tf\n",
        "import numpy as np"
      ]
    },
    {
      "cell_type": "code",
      "execution_count": 6,
      "id": "1066f537-6372-4a8a-841c-b3c8d82ed06d",
      "metadata": {
        "colab": {
          "base_uri": "https://localhost:8080/"
        },
        "id": "1066f537-6372-4a8a-841c-b3c8d82ed06d",
        "outputId": "2744c8ab-9673-47b6-c7fc-6fb32fd77117"
      },
      "outputs": [
        {
          "output_type": "stream",
          "name": "stdout",
          "text": [
            "1D Tensor:\n",
            " tf.Tensor([1 2 3 4], shape=(4,), dtype=int32)\n",
            "\n",
            "2D Random Tensor:\n",
            " tf.Tensor(\n",
            "[[0.07759738 0.82398415 0.29833388]\n",
            " [0.16001701 0.5821258  0.6184313 ]\n",
            " [0.35724044 0.27460527 0.5745534 ]], shape=(3, 3), dtype=float32)\n",
            "\n",
            "Zeros Tensor:\n",
            " tf.Tensor(\n",
            "[[0. 0. 0. 0. 0.]\n",
            " [0. 0. 0. 0. 0.]], shape=(2, 5), dtype=float32)\n"
          ]
        }
      ],
      "source": [
        "tensor_1d = tf.constant([1, 2, 3, 4])\n",
        "print(\"1D Tensor:\\n\", tensor_1d)\n",
        "\n",
        "tensor_2d_random = tf.random.uniform((3, 3))\n",
        "print(\"\\n2D Random Tensor:\\n\", tensor_2d_random)\n",
        "\n",
        "tensor_zeros = tf.zeros((2, 5))\n",
        "print(\"\\nZeros Tensor:\\n\", tensor_zeros)"
      ]
    },
    {
      "cell_type": "code",
      "source": [
        "a = tf.constant([1, 2, 3])\n",
        "b = tf.constant([4, 5, 6])\n",
        "print(\"\\nAddition:\", a + b)\n",
        "print(\"Subtraction:\", a - b)\n",
        "print(\"Multiplication:\", a * b)"
      ],
      "metadata": {
        "colab": {
          "base_uri": "https://localhost:8080/"
        },
        "id": "BgmM5H6fQ9I_",
        "outputId": "bd44f210-6e11-4a54-9218-d59145cc3997"
      },
      "id": "BgmM5H6fQ9I_",
      "execution_count": 7,
      "outputs": [
        {
          "output_type": "stream",
          "name": "stdout",
          "text": [
            "\n",
            "Addition: tf.Tensor([5 7 9], shape=(3,), dtype=int32)\n",
            "Subtraction: tf.Tensor([-3 -3 -3], shape=(3,), dtype=int32)\n",
            "Multiplication: tf.Tensor([ 4 10 18], shape=(3,), dtype=int32)\n"
          ]
        }
      ]
    },
    {
      "cell_type": "code",
      "source": [
        "np_array = np.array([[1, 2], [3, 4]])\n",
        "tf_tensor = tf.convert_to_tensor(np_array)\n",
        "print(\"\\nNumPy to TensorFlow:\\n\", tf_tensor)"
      ],
      "metadata": {
        "colab": {
          "base_uri": "https://localhost:8080/"
        },
        "id": "hoK8TTxzRHU8",
        "outputId": "01d486bf-526c-43db-9e28-1ec9995cf671"
      },
      "id": "hoK8TTxzRHU8",
      "execution_count": 8,
      "outputs": [
        {
          "output_type": "stream",
          "name": "stdout",
          "text": [
            "\n",
            "NumPy to TensorFlow:\n",
            " tf.Tensor(\n",
            "[[1 2]\n",
            " [3 4]], shape=(2, 2), dtype=int64)\n"
          ]
        }
      ]
    },
    {
      "cell_type": "markdown",
      "source": [
        "# Module 2: Automatic Differentiation\n",
        "### Assignment 2: Gradient Computation\n",
        "1. Create a tensor x with value 5.0 and set requires_grad=True\n",
        "(PyTorch) or use tf. GradientTape (TensorFlow).\n",
        "2. Compute the function y=x2+3x+2y.\n",
        "3. Calculate the gradient dydx\\frac{dy}{dx}.\n"
      ],
      "metadata": {
        "id": "-f79U6-vRZdg"
      },
      "id": "-f79U6-vRZdg"
    },
    {
      "cell_type": "markdown",
      "source": [
        "# Pytorch"
      ],
      "metadata": {
        "id": "oZA-ZV2bRj_2"
      },
      "id": "oZA-ZV2bRj_2"
    },
    {
      "cell_type": "code",
      "source": [
        "x = torch.tensor(5.0, requires_grad=True)\n",
        "y = x**2 + 3*x + 2\n",
        "y.backward()\n",
        "print(\"dy/dx:\", x.grad)"
      ],
      "metadata": {
        "colab": {
          "base_uri": "https://localhost:8080/"
        },
        "id": "vOpsYDw7RNvP",
        "outputId": "a16b8d83-28e7-490c-85eb-06b4540a949d"
      },
      "id": "vOpsYDw7RNvP",
      "execution_count": 10,
      "outputs": [
        {
          "output_type": "stream",
          "name": "stdout",
          "text": [
            "dy/dx: tensor(13.)\n"
          ]
        }
      ]
    },
    {
      "cell_type": "markdown",
      "source": [
        "# TensorFlow"
      ],
      "metadata": {
        "id": "VSSO_0BbRzpT"
      },
      "id": "VSSO_0BbRzpT"
    },
    {
      "cell_type": "code",
      "source": [
        "x = tf.Variable(5.0)\n",
        "with tf.GradientTape() as tape:\n",
        "    y = x**2 + 3*x + 2\n",
        "dy_dx = tape.gradient(y, x)\n",
        "print(\"dy/dx:\", dy_dx.numpy())"
      ],
      "metadata": {
        "colab": {
          "base_uri": "https://localhost:8080/"
        },
        "id": "uIHG5v1nRsil",
        "outputId": "e3080e11-d5fe-418b-afbb-4cf93b8f3932"
      },
      "id": "uIHG5v1nRsil",
      "execution_count": 11,
      "outputs": [
        {
          "output_type": "stream",
          "name": "stdout",
          "text": [
            "dy/dx: 13.0\n"
          ]
        }
      ]
    }
  ],
  "metadata": {
    "kernelspec": {
      "display_name": "Python 3 (ipykernel)",
      "language": "python",
      "name": "python3"
    },
    "language_info": {
      "codemirror_mode": {
        "name": "ipython",
        "version": 3
      },
      "file_extension": ".py",
      "mimetype": "text/x-python",
      "name": "python",
      "nbconvert_exporter": "python",
      "pygments_lexer": "ipython3",
      "version": "3.12.4"
    },
    "colab": {
      "provenance": []
    }
  },
  "nbformat": 4,
  "nbformat_minor": 5
}